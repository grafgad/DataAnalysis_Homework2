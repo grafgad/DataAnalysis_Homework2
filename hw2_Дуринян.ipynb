{
 "cells": [
  {
   "cell_type": "markdown",
   "metadata": {},
   "source": [
    "Ваша задача — проверить, как изменился мир тенниса за последнее время. Для анализа используйте этот датасет. Применяйте только данные из одиночного разряда (файлы в формате «atp_matches_YYYY.csv»). Желательно сопровождать выбранный статистический тест ссылкой на его документацию и указывать нулевую гипотезу, которую этот тест проверяет. Далеко не всегда это очевидно."
   ]
  },
  {
   "cell_type": "markdown",
   "metadata": {},
   "source": [
    "#### Подготовка"
   ]
  },
  {
   "cell_type": "code",
   "execution_count": 5,
   "metadata": {},
   "outputs": [],
   "source": [
    "import matplotlib.pyplot as plt\n",
    "import numpy as np\n",
    "import pandas as pd\n",
    "import seaborn as sns\n",
    "\n",
    "import os\n",
    "\n",
    "from scipy.stats import mannwhitneyu\n",
    "from scipy.stats import shapiro\n",
    "from scipy.stats import wilcoxon\n",
    "from scipy.stats import chi2_contingency"
   ]
  },
  {
   "cell_type": "code",
   "execution_count": 6,
   "metadata": {},
   "outputs": [],
   "source": [
    "# Сбор датасета\n",
    "\n",
    "#Папка с файлами\n",
    "folder_path = 'D:\\_МФТИ\\Анализ данных\\hw_data'\n",
    "\n",
    "\n",
    "all_csv_files = []\n",
    "\n",
    "for file_name in os.listdir(folder_path):\n",
    "    if file_name.endswith('.csv'):\n",
    "        file_path = os.path.join(folder_path, file_name)\n",
    "        csv_file = pd.read_csv(file_path)\n",
    "        all_csv_files.append(csv_file)\n",
    "        \n",
    "#Стартовый датасет        \n",
    "start_dataset = pd.concat(all_csv_files, ignore_index=True) \n",
    "pd.set_option('display.max_columns', None)"
   ]
  },
  {
   "cell_type": "code",
   "execution_count": 7,
   "metadata": {},
   "outputs": [
    {
     "data": {
      "text/html": [
       "<div>\n",
       "<style scoped>\n",
       "    .dataframe tbody tr th:only-of-type {\n",
       "        vertical-align: middle;\n",
       "    }\n",
       "\n",
       "    .dataframe tbody tr th {\n",
       "        vertical-align: top;\n",
       "    }\n",
       "\n",
       "    .dataframe thead th {\n",
       "        text-align: right;\n",
       "    }\n",
       "</style>\n",
       "<table border=\"1\" class=\"dataframe\">\n",
       "  <thead>\n",
       "    <tr style=\"text-align: right;\">\n",
       "      <th></th>\n",
       "      <th>tourney_id</th>\n",
       "      <th>tourney_name</th>\n",
       "      <th>surface</th>\n",
       "      <th>draw_size</th>\n",
       "      <th>tourney_level</th>\n",
       "      <th>tourney_date</th>\n",
       "      <th>match_num</th>\n",
       "      <th>winner_id</th>\n",
       "      <th>winner_seed</th>\n",
       "      <th>winner_entry</th>\n",
       "      <th>winner_name</th>\n",
       "      <th>winner_hand</th>\n",
       "      <th>winner_ht</th>\n",
       "      <th>winner_ioc</th>\n",
       "      <th>winner_age</th>\n",
       "      <th>loser_id</th>\n",
       "      <th>loser_seed</th>\n",
       "      <th>loser_entry</th>\n",
       "      <th>loser_name</th>\n",
       "      <th>loser_hand</th>\n",
       "      <th>loser_ht</th>\n",
       "      <th>loser_ioc</th>\n",
       "      <th>loser_age</th>\n",
       "      <th>score</th>\n",
       "      <th>best_of</th>\n",
       "      <th>round</th>\n",
       "      <th>minutes</th>\n",
       "      <th>w_ace</th>\n",
       "      <th>w_df</th>\n",
       "      <th>w_svpt</th>\n",
       "      <th>w_1stIn</th>\n",
       "      <th>w_1stWon</th>\n",
       "      <th>w_2ndWon</th>\n",
       "      <th>w_SvGms</th>\n",
       "      <th>w_bpSaved</th>\n",
       "      <th>w_bpFaced</th>\n",
       "      <th>l_ace</th>\n",
       "      <th>l_df</th>\n",
       "      <th>l_svpt</th>\n",
       "      <th>l_1stIn</th>\n",
       "      <th>l_1stWon</th>\n",
       "      <th>l_2ndWon</th>\n",
       "      <th>l_SvGms</th>\n",
       "      <th>l_bpSaved</th>\n",
       "      <th>l_bpFaced</th>\n",
       "      <th>winner_rank</th>\n",
       "      <th>winner_rank_points</th>\n",
       "      <th>loser_rank</th>\n",
       "      <th>loser_rank_points</th>\n",
       "    </tr>\n",
       "  </thead>\n",
       "  <tbody>\n",
       "    <tr>\n",
       "      <th>0</th>\n",
       "      <td>1988-201</td>\n",
       "      <td>Guaruja</td>\n",
       "      <td>Hard</td>\n",
       "      <td>32</td>\n",
       "      <td>A</td>\n",
       "      <td>19880125</td>\n",
       "      <td>1</td>\n",
       "      <td>100586</td>\n",
       "      <td>1.0</td>\n",
       "      <td>NaN</td>\n",
       "      <td>Eliot Teltscher</td>\n",
       "      <td>R</td>\n",
       "      <td>178.0</td>\n",
       "      <td>USA</td>\n",
       "      <td>28.8</td>\n",
       "      <td>100548</td>\n",
       "      <td>NaN</td>\n",
       "      <td>NaN</td>\n",
       "      <td>Ivan Kley</td>\n",
       "      <td>R</td>\n",
       "      <td>183.0</td>\n",
       "      <td>BRA</td>\n",
       "      <td>29.5</td>\n",
       "      <td>7-5 6-2</td>\n",
       "      <td>3</td>\n",
       "      <td>R32</td>\n",
       "      <td>NaN</td>\n",
       "      <td>NaN</td>\n",
       "      <td>NaN</td>\n",
       "      <td>NaN</td>\n",
       "      <td>NaN</td>\n",
       "      <td>NaN</td>\n",
       "      <td>NaN</td>\n",
       "      <td>NaN</td>\n",
       "      <td>NaN</td>\n",
       "      <td>NaN</td>\n",
       "      <td>NaN</td>\n",
       "      <td>NaN</td>\n",
       "      <td>NaN</td>\n",
       "      <td>NaN</td>\n",
       "      <td>NaN</td>\n",
       "      <td>NaN</td>\n",
       "      <td>NaN</td>\n",
       "      <td>NaN</td>\n",
       "      <td>NaN</td>\n",
       "      <td>22.0</td>\n",
       "      <td>NaN</td>\n",
       "      <td>251.0</td>\n",
       "      <td>NaN</td>\n",
       "    </tr>\n",
       "    <tr>\n",
       "      <th>1</th>\n",
       "      <td>1988-201</td>\n",
       "      <td>Guaruja</td>\n",
       "      <td>Hard</td>\n",
       "      <td>32</td>\n",
       "      <td>A</td>\n",
       "      <td>19880125</td>\n",
       "      <td>2</td>\n",
       "      <td>101133</td>\n",
       "      <td>NaN</td>\n",
       "      <td>NaN</td>\n",
       "      <td>Patrick Baur</td>\n",
       "      <td>R</td>\n",
       "      <td>188.0</td>\n",
       "      <td>GER</td>\n",
       "      <td>22.7</td>\n",
       "      <td>100986</td>\n",
       "      <td>NaN</td>\n",
       "      <td>WC</td>\n",
       "      <td>Dacio Campos</td>\n",
       "      <td>R</td>\n",
       "      <td>185.0</td>\n",
       "      <td>BRA</td>\n",
       "      <td>24.1</td>\n",
       "      <td>7-5 6-4</td>\n",
       "      <td>3</td>\n",
       "      <td>R32</td>\n",
       "      <td>NaN</td>\n",
       "      <td>NaN</td>\n",
       "      <td>NaN</td>\n",
       "      <td>NaN</td>\n",
       "      <td>NaN</td>\n",
       "      <td>NaN</td>\n",
       "      <td>NaN</td>\n",
       "      <td>NaN</td>\n",
       "      <td>NaN</td>\n",
       "      <td>NaN</td>\n",
       "      <td>NaN</td>\n",
       "      <td>NaN</td>\n",
       "      <td>NaN</td>\n",
       "      <td>NaN</td>\n",
       "      <td>NaN</td>\n",
       "      <td>NaN</td>\n",
       "      <td>NaN</td>\n",
       "      <td>NaN</td>\n",
       "      <td>NaN</td>\n",
       "      <td>182.0</td>\n",
       "      <td>NaN</td>\n",
       "      <td>317.0</td>\n",
       "      <td>NaN</td>\n",
       "    </tr>\n",
       "    <tr>\n",
       "      <th>2</th>\n",
       "      <td>1988-201</td>\n",
       "      <td>Guaruja</td>\n",
       "      <td>Hard</td>\n",
       "      <td>32</td>\n",
       "      <td>A</td>\n",
       "      <td>19880125</td>\n",
       "      <td>3</td>\n",
       "      <td>100669</td>\n",
       "      <td>NaN</td>\n",
       "      <td>NaN</td>\n",
       "      <td>Charles Bud Cox</td>\n",
       "      <td>R</td>\n",
       "      <td>196.0</td>\n",
       "      <td>USA</td>\n",
       "      <td>27.7</td>\n",
       "      <td>101076</td>\n",
       "      <td>NaN</td>\n",
       "      <td>NaN</td>\n",
       "      <td>Cesar Kist</td>\n",
       "      <td>R</td>\n",
       "      <td>180.0</td>\n",
       "      <td>BRA</td>\n",
       "      <td>23.2</td>\n",
       "      <td>6-2 6-4</td>\n",
       "      <td>3</td>\n",
       "      <td>R32</td>\n",
       "      <td>NaN</td>\n",
       "      <td>NaN</td>\n",
       "      <td>NaN</td>\n",
       "      <td>NaN</td>\n",
       "      <td>NaN</td>\n",
       "      <td>NaN</td>\n",
       "      <td>NaN</td>\n",
       "      <td>NaN</td>\n",
       "      <td>NaN</td>\n",
       "      <td>NaN</td>\n",
       "      <td>NaN</td>\n",
       "      <td>NaN</td>\n",
       "      <td>NaN</td>\n",
       "      <td>NaN</td>\n",
       "      <td>NaN</td>\n",
       "      <td>NaN</td>\n",
       "      <td>NaN</td>\n",
       "      <td>NaN</td>\n",
       "      <td>NaN</td>\n",
       "      <td>232.0</td>\n",
       "      <td>NaN</td>\n",
       "      <td>205.0</td>\n",
       "      <td>NaN</td>\n",
       "    </tr>\n",
       "    <tr>\n",
       "      <th>3</th>\n",
       "      <td>1988-201</td>\n",
       "      <td>Guaruja</td>\n",
       "      <td>Hard</td>\n",
       "      <td>32</td>\n",
       "      <td>A</td>\n",
       "      <td>19880125</td>\n",
       "      <td>4</td>\n",
       "      <td>100782</td>\n",
       "      <td>8.0</td>\n",
       "      <td>NaN</td>\n",
       "      <td>Pablo Arraya</td>\n",
       "      <td>R</td>\n",
       "      <td>180.0</td>\n",
       "      <td>PER</td>\n",
       "      <td>26.2</td>\n",
       "      <td>100518</td>\n",
       "      <td>NaN</td>\n",
       "      <td>NaN</td>\n",
       "      <td>Ricardo Acuna</td>\n",
       "      <td>R</td>\n",
       "      <td>175.0</td>\n",
       "      <td>CHI</td>\n",
       "      <td>30.0</td>\n",
       "      <td>6-4 6-4</td>\n",
       "      <td>3</td>\n",
       "      <td>R32</td>\n",
       "      <td>NaN</td>\n",
       "      <td>NaN</td>\n",
       "      <td>NaN</td>\n",
       "      <td>NaN</td>\n",
       "      <td>NaN</td>\n",
       "      <td>NaN</td>\n",
       "      <td>NaN</td>\n",
       "      <td>NaN</td>\n",
       "      <td>NaN</td>\n",
       "      <td>NaN</td>\n",
       "      <td>NaN</td>\n",
       "      <td>NaN</td>\n",
       "      <td>NaN</td>\n",
       "      <td>NaN</td>\n",
       "      <td>NaN</td>\n",
       "      <td>NaN</td>\n",
       "      <td>NaN</td>\n",
       "      <td>NaN</td>\n",
       "      <td>NaN</td>\n",
       "      <td>139.0</td>\n",
       "      <td>NaN</td>\n",
       "      <td>190.0</td>\n",
       "      <td>NaN</td>\n",
       "    </tr>\n",
       "    <tr>\n",
       "      <th>4</th>\n",
       "      <td>1988-201</td>\n",
       "      <td>Guaruja</td>\n",
       "      <td>Hard</td>\n",
       "      <td>32</td>\n",
       "      <td>A</td>\n",
       "      <td>19880125</td>\n",
       "      <td>5</td>\n",
       "      <td>101318</td>\n",
       "      <td>4.0</td>\n",
       "      <td>NaN</td>\n",
       "      <td>Javier Frana</td>\n",
       "      <td>L</td>\n",
       "      <td>185.0</td>\n",
       "      <td>ARG</td>\n",
       "      <td>21.0</td>\n",
       "      <td>101250</td>\n",
       "      <td>NaN</td>\n",
       "      <td>NaN</td>\n",
       "      <td>Jose Daher</td>\n",
       "      <td>R</td>\n",
       "      <td>180.0</td>\n",
       "      <td>BRA</td>\n",
       "      <td>21.7</td>\n",
       "      <td>7-6 7-6</td>\n",
       "      <td>3</td>\n",
       "      <td>R32</td>\n",
       "      <td>NaN</td>\n",
       "      <td>NaN</td>\n",
       "      <td>NaN</td>\n",
       "      <td>NaN</td>\n",
       "      <td>NaN</td>\n",
       "      <td>NaN</td>\n",
       "      <td>NaN</td>\n",
       "      <td>NaN</td>\n",
       "      <td>NaN</td>\n",
       "      <td>NaN</td>\n",
       "      <td>NaN</td>\n",
       "      <td>NaN</td>\n",
       "      <td>NaN</td>\n",
       "      <td>NaN</td>\n",
       "      <td>NaN</td>\n",
       "      <td>NaN</td>\n",
       "      <td>NaN</td>\n",
       "      <td>NaN</td>\n",
       "      <td>NaN</td>\n",
       "      <td>138.0</td>\n",
       "      <td>NaN</td>\n",
       "      <td>157.0</td>\n",
       "      <td>NaN</td>\n",
       "    </tr>\n",
       "  </tbody>\n",
       "</table>\n",
       "</div>"
      ],
      "text/plain": [
       "  tourney_id tourney_name surface  draw_size tourney_level  tourney_date  \\\n",
       "0   1988-201      Guaruja    Hard         32             A      19880125   \n",
       "1   1988-201      Guaruja    Hard         32             A      19880125   \n",
       "2   1988-201      Guaruja    Hard         32             A      19880125   \n",
       "3   1988-201      Guaruja    Hard         32             A      19880125   \n",
       "4   1988-201      Guaruja    Hard         32             A      19880125   \n",
       "\n",
       "   match_num  winner_id  winner_seed winner_entry      winner_name  \\\n",
       "0          1     100586          1.0          NaN  Eliot Teltscher   \n",
       "1          2     101133          NaN          NaN     Patrick Baur   \n",
       "2          3     100669          NaN          NaN  Charles Bud Cox   \n",
       "3          4     100782          8.0          NaN     Pablo Arraya   \n",
       "4          5     101318          4.0          NaN     Javier Frana   \n",
       "\n",
       "  winner_hand  winner_ht winner_ioc  winner_age  loser_id  loser_seed  \\\n",
       "0           R      178.0        USA        28.8    100548         NaN   \n",
       "1           R      188.0        GER        22.7    100986         NaN   \n",
       "2           R      196.0        USA        27.7    101076         NaN   \n",
       "3           R      180.0        PER        26.2    100518         NaN   \n",
       "4           L      185.0        ARG        21.0    101250         NaN   \n",
       "\n",
       "  loser_entry     loser_name loser_hand  loser_ht loser_ioc  loser_age  \\\n",
       "0         NaN      Ivan Kley          R     183.0       BRA       29.5   \n",
       "1          WC   Dacio Campos          R     185.0       BRA       24.1   \n",
       "2         NaN     Cesar Kist          R     180.0       BRA       23.2   \n",
       "3         NaN  Ricardo Acuna          R     175.0       CHI       30.0   \n",
       "4         NaN     Jose Daher          R     180.0       BRA       21.7   \n",
       "\n",
       "     score  best_of round  minutes  w_ace  w_df  w_svpt  w_1stIn  w_1stWon  \\\n",
       "0  7-5 6-2        3   R32      NaN    NaN   NaN     NaN      NaN       NaN   \n",
       "1  7-5 6-4        3   R32      NaN    NaN   NaN     NaN      NaN       NaN   \n",
       "2  6-2 6-4        3   R32      NaN    NaN   NaN     NaN      NaN       NaN   \n",
       "3  6-4 6-4        3   R32      NaN    NaN   NaN     NaN      NaN       NaN   \n",
       "4  7-6 7-6        3   R32      NaN    NaN   NaN     NaN      NaN       NaN   \n",
       "\n",
       "   w_2ndWon  w_SvGms  w_bpSaved  w_bpFaced  l_ace  l_df  l_svpt  l_1stIn  \\\n",
       "0       NaN      NaN        NaN        NaN    NaN   NaN     NaN      NaN   \n",
       "1       NaN      NaN        NaN        NaN    NaN   NaN     NaN      NaN   \n",
       "2       NaN      NaN        NaN        NaN    NaN   NaN     NaN      NaN   \n",
       "3       NaN      NaN        NaN        NaN    NaN   NaN     NaN      NaN   \n",
       "4       NaN      NaN        NaN        NaN    NaN   NaN     NaN      NaN   \n",
       "\n",
       "   l_1stWon  l_2ndWon  l_SvGms  l_bpSaved  l_bpFaced  winner_rank  \\\n",
       "0       NaN       NaN      NaN        NaN        NaN         22.0   \n",
       "1       NaN       NaN      NaN        NaN        NaN        182.0   \n",
       "2       NaN       NaN      NaN        NaN        NaN        232.0   \n",
       "3       NaN       NaN      NaN        NaN        NaN        139.0   \n",
       "4       NaN       NaN      NaN        NaN        NaN        138.0   \n",
       "\n",
       "   winner_rank_points  loser_rank  loser_rank_points  \n",
       "0                 NaN       251.0                NaN  \n",
       "1                 NaN       317.0                NaN  \n",
       "2                 NaN       205.0                NaN  \n",
       "3                 NaN       190.0                NaN  \n",
       "4                 NaN       157.0                NaN  "
      ]
     },
     "execution_count": 7,
     "metadata": {},
     "output_type": "execute_result"
    }
   ],
   "source": [
    "start_dataset.head()"
   ]
  },
  {
   "cell_type": "code",
   "execution_count": 8,
   "metadata": {},
   "outputs": [
    {
     "name": "stdout",
     "output_type": "stream",
     "text": [
      "<class 'pandas.core.frame.DataFrame'>\n",
      "RangeIndex: 116296 entries, 0 to 116295\n",
      "Data columns (total 49 columns):\n",
      " #   Column              Non-Null Count   Dtype  \n",
      "---  ------              --------------   -----  \n",
      " 0   tourney_id          116296 non-null  object \n",
      " 1   tourney_name        116296 non-null  object \n",
      " 2   surface             116243 non-null  object \n",
      " 3   draw_size           116296 non-null  int64  \n",
      " 4   tourney_level       116296 non-null  object \n",
      " 5   tourney_date        116296 non-null  int64  \n",
      " 6   match_num           116296 non-null  int64  \n",
      " 7   winner_id           116296 non-null  int64  \n",
      " 8   winner_seed         47166 non-null   float64\n",
      " 9   winner_entry        14020 non-null   object \n",
      " 10  winner_name         116296 non-null  object \n",
      " 11  winner_hand         116287 non-null  object \n",
      " 12  winner_ht           113446 non-null  float64\n",
      " 13  winner_ioc          116296 non-null  object \n",
      " 14  winner_age          116272 non-null  float64\n",
      " 15  loser_id            116296 non-null  int64  \n",
      " 16  loser_seed          25746 non-null   float64\n",
      " 17  loser_entry         23300 non-null   object \n",
      " 18  loser_name          116296 non-null  object \n",
      " 19  loser_hand          116254 non-null  object \n",
      " 20  loser_ht            110760 non-null  float64\n",
      " 21  loser_ioc           116296 non-null  object \n",
      " 22  loser_age           116224 non-null  float64\n",
      " 23  score               116296 non-null  object \n",
      " 24  best_of             116296 non-null  int64  \n",
      " 25  round               116296 non-null  object \n",
      " 26  minutes             92263 non-null   float64\n",
      " 27  w_ace               95034 non-null   float64\n",
      " 28  w_df                95034 non-null   float64\n",
      " 29  w_svpt              95034 non-null   float64\n",
      " 30  w_1stIn             95034 non-null   float64\n",
      " 31  w_1stWon            95034 non-null   float64\n",
      " 32  w_2ndWon            95034 non-null   float64\n",
      " 33  w_SvGms             95035 non-null   float64\n",
      " 34  w_bpSaved           95034 non-null   float64\n",
      " 35  w_bpFaced           95034 non-null   float64\n",
      " 36  l_ace               95034 non-null   float64\n",
      " 37  l_df                95034 non-null   float64\n",
      " 38  l_svpt              95034 non-null   float64\n",
      " 39  l_1stIn             95034 non-null   float64\n",
      " 40  l_1stWon            95034 non-null   float64\n",
      " 41  l_2ndWon            95034 non-null   float64\n",
      " 42  l_SvGms             95035 non-null   float64\n",
      " 43  l_bpSaved           95034 non-null   float64\n",
      " 44  l_bpFaced           95034 non-null   float64\n",
      " 45  winner_rank         114864 non-null  float64\n",
      " 46  winner_rank_points  106525 non-null  float64\n",
      " 47  loser_rank          113330 non-null  float64\n",
      " 48  loser_rank_points   105119 non-null  float64\n",
      "dtypes: float64(29), int64(6), object(14)\n",
      "memory usage: 43.5+ MB\n"
     ]
    }
   ],
   "source": [
    "start_dataset.info()"
   ]
  },
  {
   "cell_type": "markdown",
   "metadata": {},
   "source": [
    "### Задача 1\n",
    "\n",
    "Вы хотите узнать, как много значит ранг игрока в теннисе. Проверьте следующие утверждения:\n",
    "\n",
    "а) Если ранг игрока выше более, чем на 20 позиций, то в среднем он будет выигрывать с большей вероятностью. (Если хотите проверить статистически — формируйте выборку как отклонение от ожидаемого количества побед при случайном исходе);\n",
    "\n",
    "б) Если ранг игрока находится в окне +-5 позиций, то вероятность победы будет значительно отличаться от гипотезы из предыдущего случая. Для проверки статистической значимости выборку можно сделать как среднее по годам (например, с 1980 по 2022г.). Подумайте, как правильно сформировать репрезентативную выборку."
   ]
  },
  {
   "cell_type": "markdown",
   "metadata": {},
   "source": [
    "##№# 1а\n",
    "\n",
    "а) Если ранг игрока выше более, чем на 20 позиций, то в среднем он будет выигрывать с большей вероятностью. (Если хотите проверить статистически — формируйте выборку как отклонение от ожидаемого количества побед при случайном исходе);\n",
    "\n",
    "**Н0** - Вероятность выигрыша одинакова невзирая на различия в рангах более, чем на 20 позиций.\n",
    "\n",
    "**Н1** - Если ранг игрока выше более, чем на 20 позиций, то в среднем он будет выигрывать с большей вероятностью."
   ]
  },
  {
   "cell_type": "code",
   "execution_count": 9,
   "metadata": {},
   "outputs": [],
   "source": [
    "# Определеям датасет для первой задачи\n",
    "data1 = start_dataset.copy()\n",
    "\n",
    "# Удаляем пропуски\n",
    "data1.dropna(subset=['winner_rank', 'loser_rank'], inplace=True)"
   ]
  },
  {
   "cell_type": "code",
   "execution_count": 10,
   "metadata": {},
   "outputs": [],
   "source": [
    "# Колонка с разницей в рангах\n",
    "data1['rank_diff'] = abs(data1['winner_rank'] - data1['loser_rank'])\n",
    "\n",
    "# Выборки с разницей более 20 рангов и менее\n",
    "diff_rank_plus_20 = data1[data1['rank_diff'] > 20]\n",
    "diff_rank_minus_20 = data1[data1['rank_diff'] < 20]"
   ]
  },
  {
   "cell_type": "code",
   "execution_count": 11,
   "metadata": {},
   "outputs": [],
   "source": [
    "# Кол-во побед в каждой выборке\n",
    "\n",
    "winners_plus_20 = (\n",
    "  diff_rank_plus_20\n",
    "    .groupby(['winner_id'])\n",
    "    .agg({'match_num': 'count'})\n",
    "    .reset_index()\n",
    "    .rename(columns={'match_num': 'wins', 'winner_id': 'player_id'})\n",
    ")\n",
    "\n",
    "\n",
    "winners_minus_20 = (\n",
    "  diff_rank_minus_20\n",
    "   .groupby(['winner_id'])\n",
    "    .agg({'match_num': 'count'})\n",
    "    .reset_index()\n",
    "    .rename(columns={'match_num': 'wins', 'winner_id': 'player_id'})\n",
    ")"
   ]
  },
  {
   "cell_type": "code",
   "execution_count": 12,
   "metadata": {},
   "outputs": [],
   "source": [
    "# Подсчет кол-ва поражений\n",
    "losing_count = (data1\n",
    "    .groupby(['loser_id'])\n",
    "    .agg({'match_num':'count'})\n",
    "    .reset_index()\n",
    "    .rename(columns={'match_num': 'losses', 'loser_id': 'player_id'})\n",
    "    )\n",
    "\n",
    "# Объединение побед и поражений для каждого игрока\n",
    "winners_plus_20 = winners_plus_20.merge(losing_count, on='player_id', how='left')\n",
    "winners_minus_20 = winners_minus_20.merge(losing_count, on='player_id', how='left')\n",
    "\n",
    "# Замена пропусков на 0 и приведение к int\n",
    "winners_plus_20['losses'] = winners_plus_20['losses'].fillna(0)\n",
    "winners_plus_20['losses'] = winners_plus_20['losses'].astype(int)\n",
    "\n",
    "winners_minus_20['losses'] = winners_minus_20['losses'].fillna(0)\n",
    "winners_minus_20['losses'] = winners_minus_20['losses'].astype(int)\n",
    "\n",
    "# Количество игр на каждого игрока\n",
    "winners_plus_20['game_count'] = winners_plus_20['losses'] + winners_plus_20['wins']\n",
    "winners_minus_20['game_count'] = winners_minus_20['losses'] + winners_minus_20['wins']"
   ]
  },
  {
   "cell_type": "code",
   "execution_count": 13,
   "metadata": {},
   "outputs": [],
   "source": [
    "# Подсчет ожидаемого кол-ва побед при случайном исходе (кол-во сыгранных игр * 50%)\n",
    "winners_plus_20['expected_games'] = winners_plus_20['game_count'] * 0.5\n",
    "winners_minus_20['expected_games'] = winners_minus_20['game_count'] * 0.5\n",
    "\n",
    "winners_plus_20['expected_games'] = winners_plus_20['game_count'].astype(int)\n",
    "winners_minus_20['expected_games'] = winners_minus_20['game_count'].astype(int)"
   ]
  },
  {
   "cell_type": "code",
   "execution_count": 14,
   "metadata": {},
   "outputs": [],
   "source": [
    "# Отклонение ожидаемого кол-ва побед от фактического\n",
    "winners_plus_20['win_deviation'] = winners_plus_20['wins'] - winners_plus_20['expected_games']\n",
    "winners_minus_20['win_deviation'] = winners_minus_20['wins'] - winners_minus_20['expected_games']"
   ]
  },
  {
   "cell_type": "code",
   "execution_count": 15,
   "metadata": {},
   "outputs": [
    {
     "name": "stdout",
     "output_type": "stream",
     "text": [
      "-52.27028301886792\n",
      "-97.33176691729324\n"
     ]
    }
   ],
   "source": [
    "# Среднее отклонение фактического количества побед от расчетного\n",
    "print(winners_plus_20['win_deviation'].mean())\n",
    "print(winners_minus_20['win_deviation'].mean())"
   ]
  },
  {
   "cell_type": "code",
   "execution_count": 16,
   "metadata": {},
   "outputs": [
    {
     "data": {
      "text/plain": [
       "Text(0.5, 1.0, 'Распределение < 20 рангов')"
      ]
     },
     "execution_count": 16,
     "metadata": {},
     "output_type": "execute_result"
    },
    {
     "data": {
      "image/png": "[encoded data removed]",
      "text/plain": [
       "<Figure size 1200x400 with 2 Axes>"
      ]
     },
     "metadata": {},
     "output_type": "display_data"
    }
   ],
   "source": [
    "# Вывод графиков распредения отклонение фактического количества побед от расчетного\n",
    "fig, axes = plt.subplots(1, 2, figsize=(12, 4))\n",
    "# гистограмма\n",
    "sns.histplot(x = 'win_deviation', data = winners_plus_20, ax=axes[0])\n",
    "sns.histplot(x = 'win_deviation', data = winners_minus_20, ax=axes[1])\n",
    "\n",
    "#названия графиков\n",
    "axes[0].set_title('Распределение > 20 рангов')\n",
    "axes[1].set_title('Распределение < 20 рангов')"
   ]
  },
  {
   "cell_type": "code",
   "execution_count": 17,
   "metadata": {},
   "outputs": [
    {
     "name": "stdout",
     "output_type": "stream",
     "text": [
      "Нулевая гипотеза отвергнута. Принята гипотеза Н1: Распределение одной или обеих группах отлично от нормального\n"
     ]
    }
   ],
   "source": [
    "#  Нулевая и альтернативная гипотезы\n",
    "H0 = 'Распределения в обеих группах нормальные'\n",
    "H1 = 'Распределение одной или обеих группах отлично от нормального'\n",
    "alpha = 0.05 # уровень значимости\n",
    "\n",
    "# Теста Шапиро-Уилка\n",
    "shapiro_plus = shapiro(winners_plus_20['win_deviation'])\n",
    "shapiro_minus = shapiro(winners_minus_20['win_deviation'])\n",
    "\n",
    "# Сравнение полученного p-value с уровнем значимости\n",
    "if shapiro_plus.pvalue < alpha or shapiro_minus.pvalue < alpha:\n",
    "    print('Нулевая гипотеза отвергнута. Принята гипотеза Н1: {}'.format(H1))\n",
    "else:\n",
    "    print('Принята нулевая гипотеза: {}'.format(H0))"
   ]
  },
  {
   "cell_type": "markdown",
   "metadata": {},
   "source": [
    "Вывод: распределения в одной или обеих группах отличаются от нормального."
   ]
  },
  {
   "cell_type": "code",
   "execution_count": 18,
   "metadata": {},
   "outputs": [
    {
     "name": "stdout",
     "output_type": "stream",
     "text": [
      "Принята нулевая гипотеза: При различиях в рангах средняя вероятность победы не будет отличаться\n"
     ]
    }
   ],
   "source": [
    "# Исходя из вывода необходимо использовать непараметрический тест\n",
    "\n",
    "# нулевая и альтернативная гипотезы\n",
    "H0 = 'При различиях в рангах средняя вероятность победы не будет отличаться'\n",
    "H1 = 'При различиях в рангах вероятность победы будет выше'\n",
    "alpha = 0.05 # уровень значимости\n",
    "\n",
    "# Тест Манна-Уитни\n",
    "mann_whitneyu = mannwhitneyu(winners_minus_20['win_deviation'],\n",
    "                             winners_plus_20['win_deviation'],\n",
    "                             alternative='greater')\n",
    "\n",
    "# сравниваем полученное p-value с уровнем значимости\n",
    "if mann_whitneyu.pvalue < alpha:\n",
    "    print('Нулевая гипотеза отвергнута. Принята гипотеза Н1: {}'.format(H1))\n",
    "else:\n",
    "    print('Принята нулевая гипотеза: {}'.format(H0))"
   ]
  },
  {
   "cell_type": "markdown",
   "metadata": {},
   "source": [
    "**Вывод:** на основании теста Манна-Уитни нулевая гипотеза не может быть опровергнута: при различиях в рангах более чем на 20 позиций, средняя вероятность победы не будет отличаться, от средней вероятности победы при различии в рангах менее чем на 20 позиций."
   ]
  },
  {
   "cell_type": "markdown",
   "metadata": {},
   "source": [
    "\n",
    "#### 1б\n",
    "\n",
    "Если ранг игрока находится в окне +-5 позиций, то вероятность победы будет значительно отличаться от гипотезы из предыдущего случая. Для проверки статистической значимости выборку можно сделать как среднее по годам (например, с 1980 по 2022г.). Подумайте, как правильно сформировать репрезентативную выборку.\n",
    "\n",
    "**Н0** - при различиях в рангах на 5 позиций, средняя вероятность победы не будет отличаться от средней вероятности победы при различии в рангах более чем на 20 позиций\n",
    "\n",
    "**Н1** - при различиях в рангах более чем на 20 позиций, вероятность победы будет выше, чем при различии в рангах на 5 позиций\n"
   ]
  },
  {
   "cell_type": "code",
   "execution_count": 20,
   "metadata": {},
   "outputs": [
    {
     "data": {
      "text/plain": [
       "-56.00251572327044"
      ]
     },
     "execution_count": 20,
     "metadata": {},
     "output_type": "execute_result"
    }
   ],
   "source": [
    "# Датасет с разницей в 5 рангов\n",
    "\n",
    "data_5 = data1[data1['rank_diff'] <= 5]\n",
    "\n",
    "# Фактическое количество побед\n",
    "winners = (\n",
    "    data_5\n",
    "    .groupby(['winner_id'])\n",
    "    .agg({'match_num':\"count\"})\n",
    "    .reset_index()\n",
    "    .rename(columns = {'match_num': 'wins', 'winner_id': 'player_id'})\n",
    ")\n",
    "\n",
    "# Объединение побед и поражений для каждого игрока\n",
    "winners = winners.merge(losing_count, on='player_id', how='left')\n",
    "\n",
    "# Замена пропусков на 0 и приведение к int\n",
    "winners['losses'] = winners['losses'].fillna(0)\n",
    "winners['losses'] = winners['losses'].astype(int)\n",
    "\n",
    "# Общее количество игр на каждого игрока\n",
    "winners['game_count'] = winners['losses'] + winners['wins']\n",
    "\n",
    "# Подсчет ожидаемого кол-ва побед при случайном исходе \n",
    "# (кол-во сыгранных игр * 50%)\n",
    "winners['expected_count'] = winners['game_count'] * 0.5\n",
    "winners['expected_count'] = winners['expected_count'].astype(int)\n",
    "\n",
    "# Вычислим отклонение фактического количества побед от ожидаемого для каждого игрока.\n",
    "winners['win_deviation'] = winners['wins'] - winners['expected_count']\n",
    "\n",
    "# Посчитаем среднее отклонение фактического количества побед от расчетного\n",
    "winners['win_deviation'].mean()"
   ]
  },
  {
   "cell_type": "code",
   "execution_count": 21,
   "metadata": {},
   "outputs": [
    {
     "data": {
      "image/png": "[encoded data removed]",
      "text/plain": [
       "<Figure size 640x480 with 1 Axes>"
      ]
     },
     "metadata": {},
     "output_type": "display_data"
    }
   ],
   "source": [
    "# Построение гистограммы\n",
    "sns.histplot(x= 'win_deviation', data= winners).set_title('Отклонение фактического количества побед от расчетного при разнице ранга в 5 и менее позиций')\n",
    "plt.show()"
   ]
  },
  {
   "cell_type": "code",
   "execution_count": 22,
   "metadata": {},
   "outputs": [
    {
     "name": "stdout",
     "output_type": "stream",
     "text": [
      "Нулевая гипотеза отвергнута. Принята гипотеза Н1: При различиях в рангах вероятность победы будет выше\n"
     ]
    }
   ],
   "source": [
    "# Нулевая и альтернативная гипотезы\n",
    "H0 = 'При различиях в рангах средняя вероятность не будет отличаться'\n",
    "H1 = 'При различиях в рангах вероятность победы будет выше'\n",
    "alpha = 0.05 # уровень значимости\n",
    "\n",
    "# Тест Манна-Уитни\n",
    "mann_whitneyu = mannwhitneyu(\n",
    "    winners_plus_20['win_deviation'], \n",
    "    winners['win_deviation'], \n",
    "    alternative='greater'\n",
    ")\n",
    "\n",
    "# Сравнение полученного p-value с уровнем значимости\n",
    "if mann_whitneyu.pvalue < alpha:\n",
    "   print('Нулевая гипотеза отвергнута. Принята гипотеза Н1: {}'.format(H1))\n",
    "else:\n",
    "    print('Принята нулевая гипотеза: {}'.format(H0))\n"
   ]
  },
  {
   "cell_type": "markdown",
   "metadata": {},
   "source": [
    "**Вывод:** Гипотеза о большей вероятности победы при разнице в 20 рангов, по сравнению с разницей в 5 рангов не может быть отвергнута."
   ]
  },
  {
   "cell_type": "markdown",
   "metadata": {},
   "source": [
    "#### Задача 2\n",
    "\n",
    "Правда ли, что среднее количество сетов, которое необходимо любому игроку для победы в матче, сокращается со временем? Разбейте данные на две группы — с 1980 до 2001 гг. и 2002-2022 гг. Как изменилось среднее количество сетов, которое победитель затратил на игру? Является ли разница средних этих двух выборок статистически значимой? Выбор статистического теста обоснуйте.\n",
    "\n",
    "**Н0** - среднее количество сетов не меняется со сременем\n",
    "\n",
    "**Н1** - среднее количество сетов, необходимое для победы, сокращается со временем"
   ]
  },
  {
   "cell_type": "code",
   "execution_count": 24,
   "metadata": {},
   "outputs": [],
   "source": [
    "data_01 = [] # Датасет для игр 1980-2001\n",
    "data_22 = [] # Датасет для игр 2002-2022\n",
    "\n",
    "# Циклы для обхода всех файлов в папке\n",
    "for year in range(1980, 2002):\n",
    "    file_name = f'atp_matches_{year}.csv'\n",
    "    file_path = os.path.join(folder_path, file_name)\n",
    "\n",
    "    if os.path.exists(file_path):\n",
    "        # Загрузка датасета из файла\n",
    "        dataset = pd.read_csv(file_path)\n",
    "        data_01.append(dataset)\n",
    "\n",
    "for year in range(2002, 2023):\n",
    "    file_name = f'atp_matches_{year}.csv'\n",
    "    file_path = os.path.join(folder_path, file_name)\n",
    "\n",
    "    if os.path.exists(file_path):\n",
    "        # Загрузка датасета из файла\n",
    "        dataset = pd.read_csv(file_path)\n",
    "        data_22.append(dataset)\n",
    "\n",
    "# Сбор датасетов\n",
    "data_01 = pd.concat(data_01, ignore_index=True)\n",
    "data_22 = pd.concat(data_22, ignore_index=True)"
   ]
  },
  {
   "cell_type": "markdown",
   "metadata": {},
   "source": [
    "Теперь нужно посчитать количество сетов в каждой игре. Если я правильно поняла, количетсво сетов можно вытащить из колонки `score`, т.к. там представлено попарно количество очков за сет у каждого игрока в паре.\n",
    "\n",
    "Для этого создадим столбец, где будет посчитано количество \"-\" в стобце `score`, т.к. каждая пара чисел, разделенная \"-\", предстваляет собой очки за 1 сет."
   ]
  },
  {
   "cell_type": "code",
   "execution_count": 25,
   "metadata": {},
   "outputs": [],
   "source": [
    "# Удаление пропусков\n",
    "data_01.dropna(subset=['score'], inplace=True)\n",
    "data_22.dropna(subset=['score'], inplace=True)\n",
    "\n",
    "# Построчный подсчет \"-\" в столбце очков\n",
    "data_01['set_count'] = data_01['score'].apply(lambda x: x.count('-'))\n",
    "data_22['set_count'] = data_22['score'].apply(lambda x: x.count('-'))"
   ]
  },
  {
   "cell_type": "markdown",
   "metadata": {},
   "source": [
    "Теперь сформируем сврдные таблицы по id победителя, где посчитаем количество сетов за каждый временной период"
   ]
  },
  {
   "cell_type": "code",
   "execution_count": 26,
   "metadata": {},
   "outputs": [],
   "source": [
    "# Таблицы победителей\n",
    "\n",
    "winner_set_01 = data_01.pivot_table(\n",
    "    values='set_count',\n",
    "    index='winner_id',\n",
    "    aggfunc='sum'\n",
    ").reset_index()\n",
    "\n",
    "winner_set_22 = data_22.pivot_table(\n",
    "    values='set_count',\n",
    "    index='winner_id',\n",
    "    aggfunc='sum'\n",
    ").reset_index()"
   ]
  },
  {
   "cell_type": "code",
   "execution_count": 27,
   "metadata": {},
   "outputs": [
    {
     "name": "stdout",
     "output_type": "stream",
     "text": [
      "<class 'pandas.core.frame.DataFrame'>\n",
      "RangeIndex: 326 entries, 0 to 325\n",
      "Data columns (total 3 columns):\n",
      " #   Column        Non-Null Count  Dtype\n",
      "---  ------        --------------  -----\n",
      " 0   winner_id     326 non-null    int64\n",
      " 1   set_count_01  326 non-null    int64\n",
      " 2   set_count_22  326 non-null    int64\n",
      "dtypes: int64(3)\n",
      "memory usage: 7.8 KB\n"
     ]
    }
   ],
   "source": [
    "# Объединенная тоблица победителей\n",
    "merge_set = pd.merge(winner_set_01, winner_set_22, on='winner_id', how='inner', suffixes=('_01','_22'))\n",
    "\n",
    "merge_set.info()"
   ]
  },
  {
   "cell_type": "code",
   "execution_count": 101,
   "metadata": {},
   "outputs": [
    {
     "data": {
      "image/png": "[encoded data removed]",
      "text/plain": [
       "<Figure size 1200x400 with 2 Axes>"
      ]
     },
     "metadata": {},
     "output_type": "display_data"
    }
   ],
   "source": [
    "# Графики распредения\n",
    "fig, axes = plt.subplots(1, 2, figsize=(12, 4))\n",
    "\n",
    "#Гистограммы\n",
    "sns.histplot(x='set_count_01', data=merge_set, ax=axes[0])\n",
    "sns.histplot(x='set_count_22', data=merge_set, ax=axes[1])\n",
    "axes[0].set_title('Распределение количества сетов за период 1980-2001')\n",
    "axes[1].set_title('Распределение количества сетов за период 2002-2022')"
   ]
  },
  {
   "cell_type": "markdown",
   "metadata": {},
   "source": [
    "**Вывод:** распределение отличается от нормального. Необходим непараметрический тест. \n",
    "Нам подходит знаковый ранговый **тест Уилкоксона**, т.к. обе выборки у нас связанны кол-вом сетов и игроками, но в разные периоды."
   ]
  },
  {
   "cell_type": "code",
   "execution_count": 28,
   "metadata": {},
   "outputs": [
    {
     "name": "stdout",
     "output_type": "stream",
     "text": [
      "Принята нулевая гипотеза: Среднее количество сетов для победы не меняется со сременем\n"
     ]
    }
   ],
   "source": [
    "# Нулевая и альтернативная гипотезы\n",
    "H0 = 'Среднее количество сетов для победы не меняется со сременем'\n",
    "H1 = 'Среднее количество сетов для победы со сременем становится меньше'\n",
    "alpha = 0.05 # уровень значимости\n",
    "\n",
    "# Тест Уилкоксона\n",
    "wilcoxon_test = wilcoxon(\n",
    "    merge_set['set_count_01'],\n",
    "    merge_set['set_count_22'],\n",
    "    alternative='less'\n",
    ")\n",
    "\n",
    "# Сравнение полученного p-value с уровнем значимости\n",
    "if wilcoxon_test.pvalue < alpha:\n",
    "    print('Нулевая гипотеза отвергнута. Принята гипотеза Н1: {}'.format(H1))\n",
    "else:\n",
    "    print('Принята нулевая гипотеза: {}'.format(H0))"
   ]
  },
  {
   "cell_type": "markdown",
   "metadata": {},
   "source": [
    "**Вывод:** нулевая гипетоеза не отвергнута: возможно со временем среднее количество сетов для победы становится меньше."
   ]
  },
  {
   "cell_type": "markdown",
   "metadata": {},
   "source": [
    "#### Задача 3\n",
    "\n",
    "У вас появились сомнения — не является ли результат, который вы посчитали на предыдущем шаге, некорректным. Кажется, что на это мог повлиять формат самого матча — best of 3 или best of 5. Оставьте только матчи best of 5 (колонка best_of) и определите — является ли разница среднего количества сетов, которое сыграл победитель, значимой для выборок матчей по 1980 до 2001 гг. и 2002-2022 гг. Выбор статистического теста обоснуйте.\n",
    "\n",
    "**Н0** - среднее количество сетов не меняется со сременем для матчей best of 5\n",
    "\n",
    "**Н1** - среднее количество сетов, которое необходимо игроку для победы в матче best of 5, сокращается со временем"
   ]
  },
  {
   "cell_type": "code",
   "execution_count": 31,
   "metadata": {},
   "outputs": [],
   "source": [
    "# Фильтрация датасетов по best of 5\n",
    "best_5_01 = data_01[data_01['best_of'] == 5] # Датасет для игр 1980-2001\n",
    "best_5_22 = data_22[data_22['best_of'] == 5] # Датасет для игр 2002-2022"
   ]
  },
  {
   "cell_type": "code",
   "execution_count": 32,
   "metadata": {},
   "outputs": [],
   "source": [
    "# Кол-во сетов у игроков\n",
    "\n",
    "winner_best_5_01 = best_5_01.pivot_table(\n",
    "    values='set_count',\n",
    "    index='winner_id',\n",
    "    aggfunc='sum'\n",
    ").reset_index()\n",
    "\n",
    "winner_best_5_22 = best_5_22.pivot_table(\n",
    "    values='set_count',\n",
    "    index='winner_id',\n",
    "    aggfunc='sum'\n",
    ").reset_index()\n",
    "\n",
    "# Объединение победителей за оба периода\n",
    "merge_set_best_5 = pd.merge(\n",
    "    winner_best_5_01,\n",
    "    winner_best_5_22,\n",
    "    on='winner_id', how='inner',\n",
    "    suffixes=('_01', '_22')\n",
    ")"
   ]
  },
  {
   "cell_type": "code",
   "execution_count": 33,
   "metadata": {},
   "outputs": [
    {
     "data": {
      "image/png": "[encoded data removed]",
      "text/plain": [
       "<Figure size 1200x400 with 2 Axes>"
      ]
     },
     "metadata": {},
     "output_type": "display_data"
    }
   ],
   "source": [
    "# Построение гистограммы\n",
    "fig, axes = plt.subplots(1, 2, figsize=(12, 4))\n",
    "sns.histplot(x='set_count_01', data=merge_set_best_5, ax=axes[0])\n",
    "sns.histplot(x='set_count_22', data=merge_set_best_5, ax=axes[1])\n",
    "axes[0].set_title('Распределение количества сетов за период 1980-2001');\n",
    "axes[1].set_title('Распределение количества сетов за период 2002-2022');"
   ]
  },
  {
   "cell_type": "markdown",
   "metadata": {},
   "source": [
    "**Вывод:** распределение отличается от нормального. Необходим непараметрический тест. Нам подходит знаковый ранговый **тест Уилкоксона**, т.к. обе выборки у нас связанны кол-вом сетов и игроками, но в разные периоды."
   ]
  },
  {
   "cell_type": "code",
   "execution_count": 35,
   "metadata": {},
   "outputs": [
    {
     "name": "stdout",
     "output_type": "stream",
     "text": [
      "Принята нулевая гипотеза: Среднее количество сетов для матчей best of 5 не меняется со сременем\n"
     ]
    }
   ],
   "source": [
    "# Нулевая и альтернативная гипотезы\n",
    "H0 = 'Среднее количество сетов для матчей best of 5 не меняется со сременем'\n",
    "H1 = 'Среднее количество сетов для матчей best of 5 со сременем становится меньше'\n",
    "alpha = 0.05 # уровень значимости\n",
    "\n",
    "# вычисляем результат теста Уилкоксона для выборок\n",
    "wilcoxon_test = wilcoxon(\n",
    "    merge_set_best_5['set_count_01'],\n",
    "    merge_set_best_5['set_count_22'],\n",
    "    alternative='less'\n",
    ")\n",
    "\n",
    "# Сравнение полученного p-value с уровнем значимости\n",
    "if wilcoxon_test.pvalue < alpha:\n",
    "    print('Нулевая гипотеза отвергнута. Принята гипотеза Н1: {}'.format(H1))\n",
    "else:\n",
    "    print('Принята нулевая гипотеза: {}'.format(H0))"
   ]
  },
  {
   "cell_type": "markdown",
   "metadata": {},
   "source": [
    "**Вывод:** нулевая гипетоеза не отвергнута: возможно со временем среднее количество сетов для победы становится меньше для матчей best of 5."
   ]
  },
  {
   "cell_type": "markdown",
   "metadata": {},
   "source": [
    "##Задача 4##\n",
    "\n",
    "Вы хотите изучить психологическую устойчивость профессиональных игроков в теннис. Одним из важных показателей такой устойчивости будет доля выигранных брейк-поинтов. Возьмите трех игроков (они необязательно должны играть в одно и то же время. Можете взять игроков, которые сильно отличаются по рангу, а можете взять примерно равных игроков), для каждого из них посчитайте долю выигранных брейк поинтов (колонки, заканчивающиеся на bpFaced и bpSaved) отдельно в победных и проигранных матчах за минимум 10 лет (можно больше, но годы должны идти подряд). Постройте box-plot’ы для этих статистик для каждого из игроков. Являются ли эти распределения по годам (по победным и по проигранным матчам) независимыми для каждого из игроков? Если сравнивать эту статистику между игроками — будет ли разница в средних для проигранных и выигранных матчей значимой попарно между всеми игроками? Выбор статистического теста обоснуйте."
   ]
  },
  {
   "cell_type": "code",
   "execution_count": 37,
   "metadata": {},
   "outputs": [],
   "source": [
    "data4 = start_dataset.copy()"
   ]
  },
  {
   "cell_type": "code",
   "execution_count": 38,
   "metadata": {},
   "outputs": [],
   "source": [
    "# Преобразование столбца с датой турнира в правильный формат\n",
    "data4['tourney_date'] = pd.to_datetime(data4['tourney_date'], format='%Y%m%d')\n",
    "\n",
    "# Вывод  года турнирав отдельный столбец, для отбора данных за 10 лет\n",
    "data4['year'] = data4['tourney_date'].dt.year "
   ]
  },
  {
   "cell_type": "code",
   "execution_count": 39,
   "metadata": {},
   "outputs": [
    {
     "data": {
      "text/html": [
       "<div>\n",
       "<style scoped>\n",
       "    .dataframe tbody tr th:only-of-type {\n",
       "        vertical-align: middle;\n",
       "    }\n",
       "\n",
       "    .dataframe tbody tr th {\n",
       "        vertical-align: top;\n",
       "    }\n",
       "\n",
       "    .dataframe thead th {\n",
       "        text-align: right;\n",
       "    }\n",
       "</style>\n",
       "<table border=\"1\" class=\"dataframe\">\n",
       "  <thead>\n",
       "    <tr style=\"text-align: right;\">\n",
       "      <th></th>\n",
       "      <th>year</th>\n",
       "      <th>winner_id</th>\n",
       "      <th>loser_id</th>\n",
       "      <th>w_bpSaved</th>\n",
       "      <th>w_bpFaced</th>\n",
       "      <th>l_bpSaved</th>\n",
       "      <th>l_bpFaced</th>\n",
       "    </tr>\n",
       "  </thead>\n",
       "  <tbody>\n",
       "    <tr>\n",
       "      <th>10997</th>\n",
       "      <td>1990</td>\n",
       "      <td>101723</td>\n",
       "      <td>101414</td>\n",
       "      <td>2.0</td>\n",
       "      <td>4.0</td>\n",
       "      <td>6.0</td>\n",
       "      <td>8.0</td>\n",
       "    </tr>\n",
       "    <tr>\n",
       "      <th>10998</th>\n",
       "      <td>1990</td>\n",
       "      <td>100946</td>\n",
       "      <td>101256</td>\n",
       "      <td>9.0</td>\n",
       "      <td>10.0</td>\n",
       "      <td>1.0</td>\n",
       "      <td>2.0</td>\n",
       "    </tr>\n",
       "    <tr>\n",
       "      <th>10999</th>\n",
       "      <td>1990</td>\n",
       "      <td>101234</td>\n",
       "      <td>101421</td>\n",
       "      <td>1.0</td>\n",
       "      <td>1.0</td>\n",
       "      <td>4.0</td>\n",
       "      <td>8.0</td>\n",
       "    </tr>\n",
       "    <tr>\n",
       "      <th>11000</th>\n",
       "      <td>1990</td>\n",
       "      <td>101889</td>\n",
       "      <td>101703</td>\n",
       "      <td>3.0</td>\n",
       "      <td>3.0</td>\n",
       "      <td>5.0</td>\n",
       "      <td>8.0</td>\n",
       "    </tr>\n",
       "    <tr>\n",
       "      <th>11001</th>\n",
       "      <td>1990</td>\n",
       "      <td>101274</td>\n",
       "      <td>101843</td>\n",
       "      <td>7.0</td>\n",
       "      <td>8.0</td>\n",
       "      <td>4.0</td>\n",
       "      <td>8.0</td>\n",
       "    </tr>\n",
       "  </tbody>\n",
       "</table>\n",
       "</div>"
      ],
      "text/plain": [
       "       year  winner_id  loser_id  w_bpSaved  w_bpFaced  l_bpSaved  l_bpFaced\n",
       "10997  1990     101723    101414        2.0        4.0        6.0        8.0\n",
       "10998  1990     100946    101256        9.0       10.0        1.0        2.0\n",
       "10999  1990     101234    101421        1.0        1.0        4.0        8.0\n",
       "11000  1990     101889    101703        3.0        3.0        5.0        8.0\n",
       "11001  1990     101274    101843        7.0        8.0        4.0        8.0"
      ]
     },
     "execution_count": 39,
     "metadata": {},
     "output_type": "execute_result"
    }
   ],
   "source": [
    "# Выбор стольцов для дальнейшего анализа и удаление пропусков\n",
    "data4 = data4[['year', 'winner_id', 'loser_id', 'w_bpSaved', 'w_bpFaced', 'l_bpSaved', 'l_bpFaced']].dropna()\n",
    "data4.head()"
   ]
  },
  {
   "cell_type": "code",
   "execution_count": 40,
   "metadata": {},
   "outputs": [
    {
     "data": {
      "text/plain": [
       "winner_id\n",
       "103819    1195\n",
       "104925    1054\n",
       "104745    1044\n",
       "103970     707\n",
       "104918     705\n",
       "101736     650\n",
       "101948     631\n",
       "104607     607\n",
       "104755     590\n",
       "104053     576\n",
       "103720     573\n",
       "105227     561\n",
       "102338     555\n",
       "104269     550\n",
       "104527     544\n",
       "102845     541\n",
       "103163     530\n",
       "104792     528\n",
       "102021     527\n",
       "103990     523\n",
       "104468     498\n",
       "103852     497\n",
       "104022     479\n",
       "104545     479\n",
       "101965     474\n",
       "Name: year, dtype: int64"
      ]
     },
     "execution_count": 40,
     "metadata": {},
     "output_type": "execute_result"
    }
   ],
   "source": [
    "# Выберем 3х игроков с наибольшим количеством отыгранных матчей\n",
    "data4.groupby('winner_id')['year'].count().sort_values(ascending=False).head(25)"
   ]
  },
  {
   "cell_type": "code",
   "execution_count": null,
   "metadata": {},
   "outputs": [],
   "source": [
    "# Беру позиции 5, 10 и 15 \n",
    "# 104918\n",
    "# 104053\n",
    "# 104527"
   ]
  },
  {
   "cell_type": "code",
   "execution_count": 41,
   "metadata": {},
   "outputs": [
    {
     "data": {
      "text/plain": [
       "year\n",
       "2005    23\n",
       "2006    62\n",
       "2007    59\n",
       "2008    67\n",
       "2009    75\n",
       "2010    64\n",
       "2011    65\n",
       "2012    76\n",
       "2013    47\n",
       "2014    73\n",
       "2015    77\n",
       "2016    87\n",
       "2017    35\n",
       "2018    14\n",
       "2019    16\n",
       "2020     7\n",
       "2021    29\n",
       "2022    43\n",
       "2023    33\n",
       "Name: year, dtype: int64"
      ]
     },
     "execution_count": 41,
     "metadata": {},
     "output_type": "execute_result"
    }
   ],
   "source": [
    "# Проверка на наличие игр в течение 10 лет подряд\n",
    "data4[(data4['winner_id'] == 104918) | (data4['loser_id'] == 104918)].groupby('year')['year'].count()"
   ]
  },
  {
   "cell_type": "code",
   "execution_count": 42,
   "metadata": {},
   "outputs": [
    {
     "data": {
      "text/plain": [
       "year\n",
       "2000     9\n",
       "2001    55\n",
       "2002    71\n",
       "2003    87\n",
       "2004    81\n",
       "2005    69\n",
       "2006    62\n",
       "2007    64\n",
       "2008    62\n",
       "2009    61\n",
       "2010    66\n",
       "2011    47\n",
       "2012    39\n",
       "Name: year, dtype: int64"
      ]
     },
     "execution_count": 42,
     "metadata": {},
     "output_type": "execute_result"
    }
   ],
   "source": [
    "data4[(data4['winner_id'] == 104053) | (data4['loser_id'] == 104053)].groupby('year')['year'].count()"
   ]
  },
  {
   "cell_type": "code",
   "execution_count": 43,
   "metadata": {},
   "outputs": [
    {
     "data": {
      "text/plain": [
       "year\n",
       "2003     6\n",
       "2004     6\n",
       "2005    27\n",
       "2006    54\n",
       "2007    48\n",
       "2008    50\n",
       "2009    47\n",
       "2010    52\n",
       "2011    52\n",
       "2012    55\n",
       "2013    73\n",
       "2014    47\n",
       "2015    72\n",
       "2016    64\n",
       "2017    37\n",
       "2018    37\n",
       "2019    49\n",
       "2020    23\n",
       "2021     6\n",
       "2022    22\n",
       "2023    49\n",
       "Name: year, dtype: int64"
      ]
     },
     "execution_count": 43,
     "metadata": {},
     "output_type": "execute_result"
    }
   ],
   "source": [
    "data4[(data4['winner_id'] == 104527) | (data4['loser_id'] == 104527)].groupby('year')['year'].count()"
   ]
  },
  {
   "cell_type": "code",
   "execution_count": 44,
   "metadata": {},
   "outputs": [],
   "source": [
    "players = [104918, 104053, 104527]"
   ]
  },
  {
   "cell_type": "code",
   "execution_count": 46,
   "metadata": {},
   "outputs": [],
   "source": [
    "# Выберем из датасета только те года и те игры, где участвуют интересующие нас игроки\n",
    "data4 = data4[(data4['year'] >= 2000) & (data4['year'] <= 2023)]\n",
    "\n",
    "data4 = (data4[(data4['winner_id'].isin(players)) | data4['loser_id'].isin(players)])"
   ]
  },
  {
   "cell_type": "code",
   "execution_count": 47,
   "metadata": {},
   "outputs": [
    {
     "name": "stderr",
     "output_type": "stream",
     "text": [
      "C:\\Users\\GrafGAD\\AppData\\Local\\Temp\\ipykernel_17732\\3679171029.py:12: RuntimeWarning: invalid value encountered in scalar divide\n",
      "  round(x['w_bpSaved'] / x['w_bpFaced'] * 100, 1) if x['game_result'] == 1\n",
      "C:\\Users\\GrafGAD\\AppData\\Local\\Temp\\ipykernel_17732\\3679171029.py:13: RuntimeWarning: invalid value encountered in scalar divide\n",
      "  else round(x['l_bpSaved'] / x['l_bpSaved'] * 100, 1) if x['game_result'] == 0\n"
     ]
    }
   ],
   "source": [
    "# Колонка с результатом игры выбранного игрока\n",
    "data4['game_result'] = data4.apply(lambda x: 1 if x['winner_id'] in players else 0 if x['loser_id'] in players else None, axis = 1 )\n",
    "\n",
    "# Подсчет реализованных брейкпоинтов (bpSaved/bpFaced) в играх выбранных игроков\n",
    "data4['bp'] = (\n",
    "    data4.apply(lambda x: \n",
    "        round(x['w_bpSaved'] / x['w_bpFaced'] * 100, 1) if x['game_result'] == 1\n",
    "        else round(x['l_bpSaved'] / x['l_bpSaved'] * 100, 1) if x['game_result'] == 0\n",
    "        else None, \n",
    "        axis=1)\n",
    "    )\n",
    "\n",
    "# Замена Nan на 0\n",
    "data4['bp'] = data4['bp'].fillna(0)"
   ]
  },
  {
   "cell_type": "code",
   "execution_count": 48,
   "metadata": {},
   "outputs": [
    {
     "name": "stdout",
     "output_type": "stream",
     "text": [
      "<class 'pandas.core.frame.DataFrame'>\n",
      "Index: 2192 entries, 57644 to 110243\n",
      "Data columns (total 9 columns):\n",
      " #   Column       Non-Null Count  Dtype  \n",
      "---  ------       --------------  -----  \n",
      " 0   year         2192 non-null   int32  \n",
      " 1   winner_id    2192 non-null   int64  \n",
      " 2   loser_id     2192 non-null   int64  \n",
      " 3   w_bpSaved    2192 non-null   float64\n",
      " 4   w_bpFaced    2192 non-null   float64\n",
      " 5   l_bpSaved    2192 non-null   float64\n",
      " 6   l_bpFaced    2192 non-null   float64\n",
      " 7   game_result  2192 non-null   int64  \n",
      " 8   bp           2192 non-null   float64\n",
      "dtypes: float64(5), int32(1), int64(3)\n",
      "memory usage: 162.7 KB\n"
     ]
    }
   ],
   "source": [
    "data4.info()"
   ]
  },
  {
   "cell_type": "code",
   "execution_count": 49,
   "metadata": {},
   "outputs": [],
   "source": [
    "winner_BP = pd.DataFrame() # Датафрейм для побед\n",
    "loser_BP = pd.DataFrame() # Датафрейм для поражений\n",
    "\n",
    "# Подсчет среднего bp по годам\n",
    "for id in players:\n",
    "    id_win = data4[(data4['winner_id'] == id)]\n",
    "    id_loose = data4[(data4['loser_id'] == id)]\n",
    "    \n",
    "    win_group = id_win.groupby('year').agg({'bp': 'mean'}).reset_index()\n",
    "    win_group['id'] = id\n",
    "    winner_BP = pd.concat([winner_BP, win_group], ignore_index=True)\n",
    "    \n",
    "    loose_group = id_win.groupby('year').agg({'bp': 'mean'}).reset_index()\n",
    "    loose_group['id'] = id\n",
    "    loser_BP = pd.concat([loser_BP, loose_group], ignore_index=True)    \n",
    "    \n",
    "    \n",
    "winner_BP = winner_BP.pivot_table(\n",
    "    values='bp',\n",
    "    index='year',\n",
    "    columns='id'\n",
    ")\n",
    "\n",
    "loser_BP = loser_BP.pivot_table(\n",
    "    values='bp',\n",
    "    index='year',\n",
    "    columns='id'\n",
    ")\n",
    "    "
   ]
  },
  {
   "cell_type": "code",
   "execution_count": 50,
   "metadata": {},
   "outputs": [
    {
     "data": {
      "text/html": [
       "<div>\n",
       "<style scoped>\n",
       "    .dataframe tbody tr th:only-of-type {\n",
       "        vertical-align: middle;\n",
       "    }\n",
       "\n",
       "    .dataframe tbody tr th {\n",
       "        vertical-align: top;\n",
       "    }\n",
       "\n",
       "    .dataframe thead th {\n",
       "        text-align: right;\n",
       "    }\n",
       "</style>\n",
       "<table border=\"1\" class=\"dataframe\">\n",
       "  <thead>\n",
       "    <tr style=\"text-align: right;\">\n",
       "      <th>id</th>\n",
       "      <th>104053</th>\n",
       "      <th>104527</th>\n",
       "      <th>104918</th>\n",
       "    </tr>\n",
       "    <tr>\n",
       "      <th>year</th>\n",
       "      <th></th>\n",
       "      <th></th>\n",
       "      <th></th>\n",
       "    </tr>\n",
       "  </thead>\n",
       "  <tbody>\n",
       "    <tr>\n",
       "      <th>2004</th>\n",
       "      <td>56.957576</td>\n",
       "      <td>NaN</td>\n",
       "      <td>NaN</td>\n",
       "    </tr>\n",
       "    <tr>\n",
       "      <th>2005</th>\n",
       "      <td>55.210714</td>\n",
       "      <td>55.135714</td>\n",
       "      <td>50.750000</td>\n",
       "    </tr>\n",
       "    <tr>\n",
       "      <th>2006</th>\n",
       "      <td>50.963043</td>\n",
       "      <td>56.893548</td>\n",
       "      <td>58.159459</td>\n",
       "    </tr>\n",
       "    <tr>\n",
       "      <th>2007</th>\n",
       "      <td>54.110417</td>\n",
       "      <td>61.432000</td>\n",
       "      <td>50.735556</td>\n",
       "    </tr>\n",
       "    <tr>\n",
       "      <th>2008</th>\n",
       "      <td>58.260870</td>\n",
       "      <td>55.280000</td>\n",
       "      <td>58.037255</td>\n",
       "    </tr>\n",
       "    <tr>\n",
       "      <th>2009</th>\n",
       "      <td>48.889130</td>\n",
       "      <td>67.114286</td>\n",
       "      <td>60.598438</td>\n",
       "    </tr>\n",
       "    <tr>\n",
       "      <th>2010</th>\n",
       "      <td>57.006250</td>\n",
       "      <td>74.031429</td>\n",
       "      <td>61.378261</td>\n",
       "    </tr>\n",
       "    <tr>\n",
       "      <th>2011</th>\n",
       "      <td>53.468750</td>\n",
       "      <td>64.281818</td>\n",
       "      <td>57.909615</td>\n",
       "    </tr>\n",
       "    <tr>\n",
       "      <th>2012</th>\n",
       "      <td>55.921739</td>\n",
       "      <td>66.760000</td>\n",
       "      <td>63.565000</td>\n",
       "    </tr>\n",
       "    <tr>\n",
       "      <th>2013</th>\n",
       "      <td>NaN</td>\n",
       "      <td>61.350000</td>\n",
       "      <td>61.947368</td>\n",
       "    </tr>\n",
       "    <tr>\n",
       "      <th>2014</th>\n",
       "      <td>NaN</td>\n",
       "      <td>43.896774</td>\n",
       "      <td>54.772727</td>\n",
       "    </tr>\n",
       "    <tr>\n",
       "      <th>2015</th>\n",
       "      <td>NaN</td>\n",
       "      <td>66.014815</td>\n",
       "      <td>62.180952</td>\n",
       "    </tr>\n",
       "    <tr>\n",
       "      <th>2016</th>\n",
       "      <td>NaN</td>\n",
       "      <td>69.328261</td>\n",
       "      <td>57.420513</td>\n",
       "    </tr>\n",
       "    <tr>\n",
       "      <th>2017</th>\n",
       "      <td>NaN</td>\n",
       "      <td>64.007692</td>\n",
       "      <td>47.920000</td>\n",
       "    </tr>\n",
       "    <tr>\n",
       "      <th>2018</th>\n",
       "      <td>NaN</td>\n",
       "      <td>53.394737</td>\n",
       "      <td>70.412500</td>\n",
       "    </tr>\n",
       "    <tr>\n",
       "      <th>2019</th>\n",
       "      <td>NaN</td>\n",
       "      <td>66.254839</td>\n",
       "      <td>53.140000</td>\n",
       "    </tr>\n",
       "    <tr>\n",
       "      <th>2020</th>\n",
       "      <td>NaN</td>\n",
       "      <td>71.766667</td>\n",
       "      <td>63.833333</td>\n",
       "    </tr>\n",
       "    <tr>\n",
       "      <th>2021</th>\n",
       "      <td>NaN</td>\n",
       "      <td>51.666667</td>\n",
       "      <td>57.046667</td>\n",
       "    </tr>\n",
       "  </tbody>\n",
       "</table>\n",
       "</div>"
      ],
      "text/plain": [
       "id       104053     104527     104918\n",
       "year                                 \n",
       "2004  56.957576        NaN        NaN\n",
       "2005  55.210714  55.135714  50.750000\n",
       "2006  50.963043  56.893548  58.159459\n",
       "2007  54.110417  61.432000  50.735556\n",
       "2008  58.260870  55.280000  58.037255\n",
       "2009  48.889130  67.114286  60.598438\n",
       "2010  57.006250  74.031429  61.378261\n",
       "2011  53.468750  64.281818  57.909615\n",
       "2012  55.921739  66.760000  63.565000\n",
       "2013        NaN  61.350000  61.947368\n",
       "2014        NaN  43.896774  54.772727\n",
       "2015        NaN  66.014815  62.180952\n",
       "2016        NaN  69.328261  57.420513\n",
       "2017        NaN  64.007692  47.920000\n",
       "2018        NaN  53.394737  70.412500\n",
       "2019        NaN  66.254839  53.140000\n",
       "2020        NaN  71.766667  63.833333\n",
       "2021        NaN  51.666667  57.046667"
      ]
     },
     "execution_count": 50,
     "metadata": {},
     "output_type": "execute_result"
    }
   ],
   "source": [
    "winner_BP"
   ]
  },
  {
   "cell_type": "code",
   "execution_count": 51,
   "metadata": {},
   "outputs": [
    {
     "data": {
      "text/html": [
       "<div>\n",
       "<style scoped>\n",
       "    .dataframe tbody tr th:only-of-type {\n",
       "        vertical-align: middle;\n",
       "    }\n",
       "\n",
       "    .dataframe tbody tr th {\n",
       "        vertical-align: top;\n",
       "    }\n",
       "\n",
       "    .dataframe thead th {\n",
       "        text-align: right;\n",
       "    }\n",
       "</style>\n",
       "<table border=\"1\" class=\"dataframe\">\n",
       "  <thead>\n",
       "    <tr style=\"text-align: right;\">\n",
       "      <th>id</th>\n",
       "      <th>104053</th>\n",
       "      <th>104527</th>\n",
       "      <th>104918</th>\n",
       "    </tr>\n",
       "    <tr>\n",
       "      <th>year</th>\n",
       "      <th></th>\n",
       "      <th></th>\n",
       "      <th></th>\n",
       "    </tr>\n",
       "  </thead>\n",
       "  <tbody>\n",
       "    <tr>\n",
       "      <th>2004</th>\n",
       "      <td>56.957576</td>\n",
       "      <td>NaN</td>\n",
       "      <td>NaN</td>\n",
       "    </tr>\n",
       "    <tr>\n",
       "      <th>2005</th>\n",
       "      <td>55.210714</td>\n",
       "      <td>55.135714</td>\n",
       "      <td>50.750000</td>\n",
       "    </tr>\n",
       "    <tr>\n",
       "      <th>2006</th>\n",
       "      <td>50.963043</td>\n",
       "      <td>56.893548</td>\n",
       "      <td>58.159459</td>\n",
       "    </tr>\n",
       "    <tr>\n",
       "      <th>2007</th>\n",
       "      <td>54.110417</td>\n",
       "      <td>61.432000</td>\n",
       "      <td>50.735556</td>\n",
       "    </tr>\n",
       "    <tr>\n",
       "      <th>2008</th>\n",
       "      <td>58.260870</td>\n",
       "      <td>55.280000</td>\n",
       "      <td>58.037255</td>\n",
       "    </tr>\n",
       "    <tr>\n",
       "      <th>2009</th>\n",
       "      <td>48.889130</td>\n",
       "      <td>67.114286</td>\n",
       "      <td>60.598438</td>\n",
       "    </tr>\n",
       "    <tr>\n",
       "      <th>2010</th>\n",
       "      <td>57.006250</td>\n",
       "      <td>74.031429</td>\n",
       "      <td>61.378261</td>\n",
       "    </tr>\n",
       "    <tr>\n",
       "      <th>2011</th>\n",
       "      <td>53.468750</td>\n",
       "      <td>64.281818</td>\n",
       "      <td>57.909615</td>\n",
       "    </tr>\n",
       "    <tr>\n",
       "      <th>2012</th>\n",
       "      <td>55.921739</td>\n",
       "      <td>66.760000</td>\n",
       "      <td>63.565000</td>\n",
       "    </tr>\n",
       "    <tr>\n",
       "      <th>2013</th>\n",
       "      <td>NaN</td>\n",
       "      <td>61.350000</td>\n",
       "      <td>61.947368</td>\n",
       "    </tr>\n",
       "    <tr>\n",
       "      <th>2014</th>\n",
       "      <td>NaN</td>\n",
       "      <td>43.896774</td>\n",
       "      <td>54.772727</td>\n",
       "    </tr>\n",
       "    <tr>\n",
       "      <th>2015</th>\n",
       "      <td>NaN</td>\n",
       "      <td>66.014815</td>\n",
       "      <td>62.180952</td>\n",
       "    </tr>\n",
       "    <tr>\n",
       "      <th>2016</th>\n",
       "      <td>NaN</td>\n",
       "      <td>69.328261</td>\n",
       "      <td>57.420513</td>\n",
       "    </tr>\n",
       "    <tr>\n",
       "      <th>2017</th>\n",
       "      <td>NaN</td>\n",
       "      <td>64.007692</td>\n",
       "      <td>47.920000</td>\n",
       "    </tr>\n",
       "    <tr>\n",
       "      <th>2018</th>\n",
       "      <td>NaN</td>\n",
       "      <td>53.394737</td>\n",
       "      <td>70.412500</td>\n",
       "    </tr>\n",
       "    <tr>\n",
       "      <th>2019</th>\n",
       "      <td>NaN</td>\n",
       "      <td>66.254839</td>\n",
       "      <td>53.140000</td>\n",
       "    </tr>\n",
       "    <tr>\n",
       "      <th>2020</th>\n",
       "      <td>NaN</td>\n",
       "      <td>71.766667</td>\n",
       "      <td>63.833333</td>\n",
       "    </tr>\n",
       "    <tr>\n",
       "      <th>2021</th>\n",
       "      <td>NaN</td>\n",
       "      <td>51.666667</td>\n",
       "      <td>57.046667</td>\n",
       "    </tr>\n",
       "  </tbody>\n",
       "</table>\n",
       "</div>"
      ],
      "text/plain": [
       "id       104053     104527     104918\n",
       "year                                 \n",
       "2004  56.957576        NaN        NaN\n",
       "2005  55.210714  55.135714  50.750000\n",
       "2006  50.963043  56.893548  58.159459\n",
       "2007  54.110417  61.432000  50.735556\n",
       "2008  58.260870  55.280000  58.037255\n",
       "2009  48.889130  67.114286  60.598438\n",
       "2010  57.006250  74.031429  61.378261\n",
       "2011  53.468750  64.281818  57.909615\n",
       "2012  55.921739  66.760000  63.565000\n",
       "2013        NaN  61.350000  61.947368\n",
       "2014        NaN  43.896774  54.772727\n",
       "2015        NaN  66.014815  62.180952\n",
       "2016        NaN  69.328261  57.420513\n",
       "2017        NaN  64.007692  47.920000\n",
       "2018        NaN  53.394737  70.412500\n",
       "2019        NaN  66.254839  53.140000\n",
       "2020        NaN  71.766667  63.833333\n",
       "2021        NaN  51.666667  57.046667"
      ]
     },
     "execution_count": 51,
     "metadata": {},
     "output_type": "execute_result"
    }
   ],
   "source": [
    "loser_BP"
   ]
  },
  {
   "cell_type": "code",
   "execution_count": 55,
   "metadata": {},
   "outputs": [],
   "source": [
    "combo_BP = pd.concat(\n",
    "    [winner_BP, loser_BP],\n",
    "    keys=['wins', 'loses'],\n",
    "    axis = 1\n",
    ")"
   ]
  },
  {
   "cell_type": "code",
   "execution_count": 56,
   "metadata": {},
   "outputs": [
    {
     "data": {
      "text/html": [
       "<div>\n",
       "<style scoped>\n",
       "    .dataframe tbody tr th:only-of-type {\n",
       "        vertical-align: middle;\n",
       "    }\n",
       "\n",
       "    .dataframe tbody tr th {\n",
       "        vertical-align: top;\n",
       "    }\n",
       "\n",
       "    .dataframe thead tr th {\n",
       "        text-align: left;\n",
       "    }\n",
       "\n",
       "    .dataframe thead tr:last-of-type th {\n",
       "        text-align: right;\n",
       "    }\n",
       "</style>\n",
       "<table border=\"1\" class=\"dataframe\">\n",
       "  <thead>\n",
       "    <tr>\n",
       "      <th></th>\n",
       "      <th colspan=\"3\" halign=\"left\">wins</th>\n",
       "      <th colspan=\"3\" halign=\"left\">loses</th>\n",
       "    </tr>\n",
       "    <tr>\n",
       "      <th>id</th>\n",
       "      <th>104053</th>\n",
       "      <th>104527</th>\n",
       "      <th>104918</th>\n",
       "      <th>104053</th>\n",
       "      <th>104527</th>\n",
       "      <th>104918</th>\n",
       "    </tr>\n",
       "    <tr>\n",
       "      <th>year</th>\n",
       "      <th></th>\n",
       "      <th></th>\n",
       "      <th></th>\n",
       "      <th></th>\n",
       "      <th></th>\n",
       "      <th></th>\n",
       "    </tr>\n",
       "  </thead>\n",
       "  <tbody>\n",
       "    <tr>\n",
       "      <th>2004</th>\n",
       "      <td>56.957576</td>\n",
       "      <td>NaN</td>\n",
       "      <td>NaN</td>\n",
       "      <td>56.957576</td>\n",
       "      <td>NaN</td>\n",
       "      <td>NaN</td>\n",
       "    </tr>\n",
       "    <tr>\n",
       "      <th>2005</th>\n",
       "      <td>55.210714</td>\n",
       "      <td>55.135714</td>\n",
       "      <td>50.750000</td>\n",
       "      <td>55.210714</td>\n",
       "      <td>55.135714</td>\n",
       "      <td>50.750000</td>\n",
       "    </tr>\n",
       "    <tr>\n",
       "      <th>2006</th>\n",
       "      <td>50.963043</td>\n",
       "      <td>56.893548</td>\n",
       "      <td>58.159459</td>\n",
       "      <td>50.963043</td>\n",
       "      <td>56.893548</td>\n",
       "      <td>58.159459</td>\n",
       "    </tr>\n",
       "    <tr>\n",
       "      <th>2007</th>\n",
       "      <td>54.110417</td>\n",
       "      <td>61.432000</td>\n",
       "      <td>50.735556</td>\n",
       "      <td>54.110417</td>\n",
       "      <td>61.432000</td>\n",
       "      <td>50.735556</td>\n",
       "    </tr>\n",
       "    <tr>\n",
       "      <th>2008</th>\n",
       "      <td>58.260870</td>\n",
       "      <td>55.280000</td>\n",
       "      <td>58.037255</td>\n",
       "      <td>58.260870</td>\n",
       "      <td>55.280000</td>\n",
       "      <td>58.037255</td>\n",
       "    </tr>\n",
       "    <tr>\n",
       "      <th>2009</th>\n",
       "      <td>48.889130</td>\n",
       "      <td>67.114286</td>\n",
       "      <td>60.598438</td>\n",
       "      <td>48.889130</td>\n",
       "      <td>67.114286</td>\n",
       "      <td>60.598438</td>\n",
       "    </tr>\n",
       "    <tr>\n",
       "      <th>2010</th>\n",
       "      <td>57.006250</td>\n",
       "      <td>74.031429</td>\n",
       "      <td>61.378261</td>\n",
       "      <td>57.006250</td>\n",
       "      <td>74.031429</td>\n",
       "      <td>61.378261</td>\n",
       "    </tr>\n",
       "    <tr>\n",
       "      <th>2011</th>\n",
       "      <td>53.468750</td>\n",
       "      <td>64.281818</td>\n",
       "      <td>57.909615</td>\n",
       "      <td>53.468750</td>\n",
       "      <td>64.281818</td>\n",
       "      <td>57.909615</td>\n",
       "    </tr>\n",
       "    <tr>\n",
       "      <th>2012</th>\n",
       "      <td>55.921739</td>\n",
       "      <td>66.760000</td>\n",
       "      <td>63.565000</td>\n",
       "      <td>55.921739</td>\n",
       "      <td>66.760000</td>\n",
       "      <td>63.565000</td>\n",
       "    </tr>\n",
       "    <tr>\n",
       "      <th>2013</th>\n",
       "      <td>NaN</td>\n",
       "      <td>61.350000</td>\n",
       "      <td>61.947368</td>\n",
       "      <td>NaN</td>\n",
       "      <td>61.350000</td>\n",
       "      <td>61.947368</td>\n",
       "    </tr>\n",
       "    <tr>\n",
       "      <th>2014</th>\n",
       "      <td>NaN</td>\n",
       "      <td>43.896774</td>\n",
       "      <td>54.772727</td>\n",
       "      <td>NaN</td>\n",
       "      <td>43.896774</td>\n",
       "      <td>54.772727</td>\n",
       "    </tr>\n",
       "    <tr>\n",
       "      <th>2015</th>\n",
       "      <td>NaN</td>\n",
       "      <td>66.014815</td>\n",
       "      <td>62.180952</td>\n",
       "      <td>NaN</td>\n",
       "      <td>66.014815</td>\n",
       "      <td>62.180952</td>\n",
       "    </tr>\n",
       "    <tr>\n",
       "      <th>2016</th>\n",
       "      <td>NaN</td>\n",
       "      <td>69.328261</td>\n",
       "      <td>57.420513</td>\n",
       "      <td>NaN</td>\n",
       "      <td>69.328261</td>\n",
       "      <td>57.420513</td>\n",
       "    </tr>\n",
       "    <tr>\n",
       "      <th>2017</th>\n",
       "      <td>NaN</td>\n",
       "      <td>64.007692</td>\n",
       "      <td>47.920000</td>\n",
       "      <td>NaN</td>\n",
       "      <td>64.007692</td>\n",
       "      <td>47.920000</td>\n",
       "    </tr>\n",
       "    <tr>\n",
       "      <th>2018</th>\n",
       "      <td>NaN</td>\n",
       "      <td>53.394737</td>\n",
       "      <td>70.412500</td>\n",
       "      <td>NaN</td>\n",
       "      <td>53.394737</td>\n",
       "      <td>70.412500</td>\n",
       "    </tr>\n",
       "    <tr>\n",
       "      <th>2019</th>\n",
       "      <td>NaN</td>\n",
       "      <td>66.254839</td>\n",
       "      <td>53.140000</td>\n",
       "      <td>NaN</td>\n",
       "      <td>66.254839</td>\n",
       "      <td>53.140000</td>\n",
       "    </tr>\n",
       "    <tr>\n",
       "      <th>2020</th>\n",
       "      <td>NaN</td>\n",
       "      <td>71.766667</td>\n",
       "      <td>63.833333</td>\n",
       "      <td>NaN</td>\n",
       "      <td>71.766667</td>\n",
       "      <td>63.833333</td>\n",
       "    </tr>\n",
       "    <tr>\n",
       "      <th>2021</th>\n",
       "      <td>NaN</td>\n",
       "      <td>51.666667</td>\n",
       "      <td>57.046667</td>\n",
       "      <td>NaN</td>\n",
       "      <td>51.666667</td>\n",
       "      <td>57.046667</td>\n",
       "    </tr>\n",
       "  </tbody>\n",
       "</table>\n",
       "</div>"
      ],
      "text/plain": [
       "           wins                            loses                      \n",
       "id       104053     104527     104918     104053     104527     104918\n",
       "year                                                                  \n",
       "2004  56.957576        NaN        NaN  56.957576        NaN        NaN\n",
       "2005  55.210714  55.135714  50.750000  55.210714  55.135714  50.750000\n",
       "2006  50.963043  56.893548  58.159459  50.963043  56.893548  58.159459\n",
       "2007  54.110417  61.432000  50.735556  54.110417  61.432000  50.735556\n",
       "2008  58.260870  55.280000  58.037255  58.260870  55.280000  58.037255\n",
       "2009  48.889130  67.114286  60.598438  48.889130  67.114286  60.598438\n",
       "2010  57.006250  74.031429  61.378261  57.006250  74.031429  61.378261\n",
       "2011  53.468750  64.281818  57.909615  53.468750  64.281818  57.909615\n",
       "2012  55.921739  66.760000  63.565000  55.921739  66.760000  63.565000\n",
       "2013        NaN  61.350000  61.947368        NaN  61.350000  61.947368\n",
       "2014        NaN  43.896774  54.772727        NaN  43.896774  54.772727\n",
       "2015        NaN  66.014815  62.180952        NaN  66.014815  62.180952\n",
       "2016        NaN  69.328261  57.420513        NaN  69.328261  57.420513\n",
       "2017        NaN  64.007692  47.920000        NaN  64.007692  47.920000\n",
       "2018        NaN  53.394737  70.412500        NaN  53.394737  70.412500\n",
       "2019        NaN  66.254839  53.140000        NaN  66.254839  53.140000\n",
       "2020        NaN  71.766667  63.833333        NaN  71.766667  63.833333\n",
       "2021        NaN  51.666667  57.046667        NaN  51.666667  57.046667"
      ]
     },
     "execution_count": 56,
     "metadata": {},
     "output_type": "execute_result"
    }
   ],
   "source": [
    "combo_BP"
   ]
  },
  {
   "cell_type": "code",
   "execution_count": 57,
   "metadata": {},
   "outputs": [
    {
     "data": {
      "image/png": "[encoded data removed]",
      "text/plain": [
       "<Figure size 1000x600 with 1 Axes>"
      ]
     },
     "metadata": {},
     "output_type": "display_data"
    }
   ],
   "source": [
    "# Строим боксплоты для каждого столбца\n",
    "plt.figure(figsize=(10, 6))\n",
    "combo_BP.boxplot()\n",
    "plt.title('Распределение bp по игрокам и исходам игры')\n",
    "plt.ylabel('Среднее bp')\n",
    "plt.show()"
   ]
  },
  {
   "cell_type": "markdown",
   "metadata": {},
   "source": [
    "\n",
    "Выбран непараметрический, одновыборочный тест, который проверяет наличие связи между двумя переменными - тест хи-квадрат."
   ]
  },
  {
   "cell_type": "code",
   "execution_count": 62,
   "metadata": {},
   "outputs": [
    {
     "name": "stdout",
     "output_type": "stream",
     "text": [
      "Принята нулевая гипотеза: Распределения по годам независимы для каждого игрока\n"
     ]
    }
   ],
   "source": [
    "# Нулевая и альтернативная гипотезы\n",
    "H0 = 'Распределения по годам независимы для каждого игрока'\n",
    "H1 = 'Распределения по годам зависимы хотя бы для одного игрока'\n",
    "alpha = 0.05 # уровень значимости\n",
    "\n",
    "# Тест Хи-квадрат\n",
    "result1 = chi2_contingency(combo_BP.iloc[:,[0, 3]])\n",
    "result2 = chi2_contingency(combo_BP.iloc[:,[1, 4]])\n",
    "result3 = chi2_contingency(combo_BP.iloc[:,[2, 5]])\n",
    "\n",
    "# Сравнение полученного p-value с уровнем значимости\n",
    "if (result1.pvalue < alpha) & (result2.pvalue < alpha) & (result3.pvalue < alpha):\n",
    "    print('Нулевая гипотеза отвергнута. Принята гипотеза Н1: {}'.format(H1))\n",
    "else:\n",
    "    print('Принята нулевая гипотеза: {}'.format(H0))"
   ]
  },
  {
   "cell_type": "markdown",
   "metadata": {},
   "source": [
    "***\n",
    " Если сравнивать эту статистику между игроками — будет ли разница в средних для проигранных и выигранных матчей значимой попарно между всеми игроками?\n",
    "\n",
    "**Н0** - распределения по годам (по победным и по проигранным матчам) попарно независимы для каждого из игроков\n",
    "\n",
    "\n",
    "**Н1** - распределения по годам (по победным и по проигранным матчам) зависимы хотя бы для одной пары игроков\n",
    "***\n",
    "Для решения этого вопроса воспользуемся [тестом на независимость](https://docs.scipy.org/doc/scipy/reference/generated/scipy.stats.chi2_contingency.html) из семейства тестов хи-квадрата (он же test of independence/association) — это непараметрический, одновыборочный тест, который проверяет наличие связи между двумя переменными."
   ]
  },
  {
   "cell_type": "code",
   "execution_count": 63,
   "metadata": {},
   "outputs": [
    {
     "name": "stdout",
     "output_type": "stream",
     "text": [
      "Принята нулевая гипотеза: Распределения по годам независимы для каждой пары игроков\n"
     ]
    }
   ],
   "source": [
    "# Нулевая и альтернативная гипотезы\n",
    "H0 = 'Распределения по годам независимы для каждой пары игроков'\n",
    "H1 = 'Распределения по годам зависимы хотя бы для одного игрока'\n",
    "alpha = 0.05 # уровень значимости\n",
    "\n",
    "# Тест Хи-квадрат\n",
    "result1 = chi2_contingency(combo_BP.iloc[:,[0, 1]])\n",
    "result2 = chi2_contingency(combo_BP.iloc[:,[0, 2]])\n",
    "result3 = chi2_contingency(combo_BP.iloc[:,[1, 2]])\n",
    "result4 = chi2_contingency(combo_BP.iloc[:,[3, 4]])\n",
    "result5 = chi2_contingency(combo_BP.iloc[:,[3, 5]])\n",
    "result6 = chi2_contingency(combo_BP.iloc[:,[4, 5]])\n",
    "\n",
    "\n",
    "# Сравнение полученного p-value с уровнем значимости\n",
    "if (result1.pvalue < alpha) & (result2.pvalue < alpha) & \\\n",
    "    (result3.pvalue < alpha) & (result4.pvalue < alpha) & \\\n",
    "    (result5.pvalue < alpha) & (result6.pvalue < alpha):\n",
    "    print('Нулевая гипотеза отвергнута. Принята гипотеза Н1: {}'.format(H1))\n",
    "else:\n",
    "    print('Принята нулевая гипотеза: {}'.format(H0))"
   ]
  },
  {
   "cell_type": "markdown",
   "metadata": {},
   "source": [
    "**Выводы:** \n",
    "- Распределения по годам (по победным и по проигранным матчам) являются независимыми для каждого из игроков.\n",
    "- Разница в средних для проигранных и выигранных матчей попарно между всеми игроками незначима."
   ]
  },
  {
   "cell_type": "markdown",
   "metadata": {},
   "source": [
    "##Задача 5##\n",
    "\n",
    "У вас есть гипотеза, что доля выигранных брейк-поинтов связана с вероятностью победить в игре. Соберите статистику, где для каждого матча будет собран его исход (победа/поражение) и доля выигранных брейк-поинтов (не забудьте, что в матче два игрока). Разделите долю выигранных брейкпоинтов на группы выше/ниже медианы и, используя информацию о исходе матча, проверьте зависимость между количеством выигранных брейкпоинтов и результатом матча. Насколько сильна эта зависимость? Выбор статистического теста обоснуйте."
   ]
  },
  {
   "cell_type": "code",
   "execution_count": 64,
   "metadata": {},
   "outputs": [],
   "source": [
    "data5 = start_dataset.copy()"
   ]
  },
  {
   "cell_type": "code",
   "execution_count": 65,
   "metadata": {},
   "outputs": [],
   "source": [
    "data5.dropna(\n",
    "    subset=['w_bpSaved', 'w_bpFaced', 'l_bpSaved', 'l_bpFaced'],\n",
    "    inplace=True\n",
    ")"
   ]
  },
  {
   "cell_type": "code",
   "execution_count": 66,
   "metadata": {},
   "outputs": [],
   "source": [
    "\n",
    "# (wbpSaved + lbpSaved) / (wbpFaced + lbpFaced)\n",
    "\n",
    "data5['win_bp'] = round(\n",
    "    ((data5['w_bpSaved'] + data5['l_bpSaved']) / (data5['w_bpFaced'] + data5['l_bpFaced']))\n",
    ")\n"
   ]
  },
  {
   "cell_type": "code",
   "execution_count": 67,
   "metadata": {},
   "outputs": [
    {
     "data": {
      "text/plain": [
       "10997     1.0\n",
       "10998     1.0\n",
       "10999     1.0\n",
       "11000     1.0\n",
       "11001     1.0\n",
       "         ... \n",
       "116157    1.0\n",
       "116159    0.0\n",
       "116160    0.0\n",
       "116193    1.0\n",
       "116210    0.0\n",
       "Name: win_bp, Length: 95034, dtype: float64"
      ]
     },
     "execution_count": 67,
     "metadata": {},
     "output_type": "execute_result"
    }
   ],
   "source": [
    "# data5.head()\n",
    "data5['win_bp']"
   ]
  },
  {
   "cell_type": "code",
   "execution_count": 68,
   "metadata": {},
   "outputs": [],
   "source": [
    "data5 = data5[['tourney_id', 'match_num', 'winner_id', 'loser_id', 'win_bp']]"
   ]
  },
  {
   "cell_type": "code",
   "execution_count": 69,
   "metadata": {},
   "outputs": [
    {
     "name": "stdout",
     "output_type": "stream",
     "text": [
      "<class 'pandas.core.frame.DataFrame'>\n",
      "Index: 95034 entries, 10997 to 116210\n",
      "Data columns (total 5 columns):\n",
      " #   Column      Non-Null Count  Dtype  \n",
      "---  ------      --------------  -----  \n",
      " 0   tourney_id  95034 non-null  object \n",
      " 1   match_num   95034 non-null  int64  \n",
      " 2   winner_id   95034 non-null  int64  \n",
      " 3   loser_id    95034 non-null  int64  \n",
      " 4   win_bp      94956 non-null  float64\n",
      "dtypes: float64(1), int64(3), object(1)\n",
      "memory usage: 4.4+ MB\n"
     ]
    }
   ],
   "source": [
    "data5.info()"
   ]
  },
  {
   "cell_type": "code",
   "execution_count": 70,
   "metadata": {},
   "outputs": [
    {
     "data": {
      "text/html": [
       "<div>\n",
       "<style scoped>\n",
       "    .dataframe tbody tr th:only-of-type {\n",
       "        vertical-align: middle;\n",
       "    }\n",
       "\n",
       "    .dataframe tbody tr th {\n",
       "        vertical-align: top;\n",
       "    }\n",
       "\n",
       "    .dataframe thead th {\n",
       "        text-align: right;\n",
       "    }\n",
       "</style>\n",
       "<table border=\"1\" class=\"dataframe\">\n",
       "  <thead>\n",
       "    <tr style=\"text-align: right;\">\n",
       "      <th></th>\n",
       "      <th>tourney_id</th>\n",
       "      <th>match_num</th>\n",
       "      <th>winner_id</th>\n",
       "      <th>loser_id</th>\n",
       "      <th>win_bp</th>\n",
       "    </tr>\n",
       "  </thead>\n",
       "  <tbody>\n",
       "    <tr>\n",
       "      <th>10997</th>\n",
       "      <td>1991-339</td>\n",
       "      <td>1</td>\n",
       "      <td>101723</td>\n",
       "      <td>101414</td>\n",
       "      <td>1.0</td>\n",
       "    </tr>\n",
       "    <tr>\n",
       "      <th>10998</th>\n",
       "      <td>1991-339</td>\n",
       "      <td>2</td>\n",
       "      <td>100946</td>\n",
       "      <td>101256</td>\n",
       "      <td>1.0</td>\n",
       "    </tr>\n",
       "    <tr>\n",
       "      <th>10999</th>\n",
       "      <td>1991-339</td>\n",
       "      <td>3</td>\n",
       "      <td>101234</td>\n",
       "      <td>101421</td>\n",
       "      <td>1.0</td>\n",
       "    </tr>\n",
       "    <tr>\n",
       "      <th>11000</th>\n",
       "      <td>1991-339</td>\n",
       "      <td>4</td>\n",
       "      <td>101889</td>\n",
       "      <td>101703</td>\n",
       "      <td>1.0</td>\n",
       "    </tr>\n",
       "    <tr>\n",
       "      <th>11001</th>\n",
       "      <td>1991-339</td>\n",
       "      <td>5</td>\n",
       "      <td>101274</td>\n",
       "      <td>101843</td>\n",
       "      <td>1.0</td>\n",
       "    </tr>\n",
       "  </tbody>\n",
       "</table>\n",
       "</div>"
      ],
      "text/plain": [
       "      tourney_id  match_num  winner_id  loser_id  win_bp\n",
       "10997   1991-339          1     101723    101414     1.0\n",
       "10998   1991-339          2     100946    101256     1.0\n",
       "10999   1991-339          3     101234    101421     1.0\n",
       "11000   1991-339          4     101889    101703     1.0\n",
       "11001   1991-339          5     101274    101843     1.0"
      ]
     },
     "execution_count": 70,
     "metadata": {},
     "output_type": "execute_result"
    }
   ],
   "source": [
    "data5.head()"
   ]
  },
  {
   "cell_type": "code",
   "execution_count": 71,
   "metadata": {},
   "outputs": [
    {
     "data": {
      "text/plain": [
       "1.0"
      ]
     },
     "execution_count": 71,
     "metadata": {},
     "output_type": "execute_result"
    }
   ],
   "source": [
    "median_bp = data5['win_bp'].median()\n",
    "median_bp"
   ]
  }
 ],
 "metadata": {
  "kernelspec": {
   "display_name": "Python 3",
   "language": "python",
   "name": "python3"
  },
  "language_info": {
   "codemirror_mode": {
    "name": "ipython",
    "version": 3
   },
   "file_extension": ".py",
   "mimetype": "text/x-python",
   "name": "python",
   "nbconvert_exporter": "python",
   "pygments_lexer": "ipython3",
   "version": "3.11.7"
  }
 },
 "nbformat": 4,
 "nbformat_minor": 2
}
